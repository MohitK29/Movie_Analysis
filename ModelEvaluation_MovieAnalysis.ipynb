{
 "cells": [
  {
   "cell_type": "markdown",
   "id": "YLz3MN-rtVN2",
   "metadata": {
    "id": "YLz3MN-rtVN2"
   },
   "source": [
    "### NYU CDS\n",
    "\n",
    "### Fall 2021\n",
    "\n",
    "### Introduction to Data Science\n",
    "\n",
    "### Project 2\n",
    "\n",
    "### student netid: mmk9369\n",
    "\n",
    "### deadline: Dec 06, 2021, 11:59pm"
   ]
  },
  {
   "cell_type": "markdown",
   "id": "-A16A23etVN4",
   "metadata": {
    "id": "-A16A23etVN4"
   },
   "source": [
    "---\n",
    "# Data analysis Project 2\n",
    "### Correlation and Regression of Movie Ratings Data\n",
    "---"
   ]
  },
  {
   "cell_type": "markdown",
   "id": "EsmKxKSetVN5",
   "metadata": {
    "id": "EsmKxKSetVN5"
   },
   "source": [
    "### Dataset description\n",
    "\n",
    "This dataset features ratings data of 400 movies from 1097 research participants. \n",
    "\n",
    "* 1st row: Headers (Movie titles/questions) – note that the indexing in this list is from 1\n",
    "* Row 2-1098: Responses from individual participants\n",
    "* Columns 1-400: These columns contain the ratings for the 400 movies (0 to 4, and missing)\n",
    "* Columns 401-421: These columns contain self-assessments on sensation seeking behaviors (1-5)\n",
    "* Columns 422-464: These columns contain responses to personality questions (1-5)\n",
    "* Columns 465-474: These columns contain self-reported movie experience ratings (1-5)\n",
    "* Column 475: Gender identity (1 = female, 2 = male, 3 = self-described)\n",
    "* Column 476: Only child (1 = yes, 0 = no, -1 = no response)\n",
    "* Column 477: Movies are best enjoyed alone (1 = yes, 0 = no, -1 = no response)\n",
    "\n",
    "Note that we did most of the data munging for you already (e.g. Python interprets commas in a csv file as separators, so we removed all commas from movie titles), but you still need to handle missing data."
   ]
  },
  {
   "cell_type": "markdown",
   "id": "JEkBY4yTtVN5",
   "metadata": {
    "id": "JEkBY4yTtVN5"
   },
   "source": [
    "\n",
    "\n",
    "\n",
    "### Q1:\n",
    "\n",
    "\n",
    "**Note:** For all missing values in the data, use the average of the corresponding column so to fill in the missing data. \n",
    "\n",
    "\n",
    "\n",
    "In this problem, under **the most correlated**, we consider the largest correlation in the absolute value.\n",
    "\n",
    "\n",
    "1.1. For every user in the given data, find its most correlated user. \n",
    "\n",
    "1.2. What is the pair of the most correlated users in the data? \n",
    "\n",
    "1.3. What is the value of this highest correlation?\n",
    "\n",
    "1.4. For users 0, 1, 2, \\dots, 9, print their most correlated users. \n",
    "\n"
   ]
  },
  {
   "cell_type": "code",
   "execution_count": 1,
   "id": "7i7XM2TdEjlK",
   "metadata": {
    "id": "7i7XM2TdEjlK"
   },
   "outputs": [],
   "source": [
    "import numpy as np\n",
    "import pandas as pd\n",
    "import heapq\n",
    "from sklearn.linear_model import LinearRegression\n",
    "from sklearn.model_selection import train_test_split\n",
    "from sklearn.metrics import mean_squared_error\n",
    "from sklearn.linear_model import Ridge\n",
    "from sklearn.linear_model import Lasso\n",
    "from sklearn.pipeline import make_pipeline"
   ]
  },
  {
   "cell_type": "code",
   "execution_count": 2,
   "id": "RjauqT2TGyCS",
   "metadata": {
    "id": "RjauqT2TGyCS"
   },
   "outputs": [],
   "source": [
    "movie_df=pd.read_csv('movieReplicationSet.csv')"
   ]
  },
  {
   "cell_type": "code",
   "execution_count": 3,
   "id": "2aGYx4FCHAKY",
   "metadata": {
    "id": "2aGYx4FCHAKY"
   },
   "outputs": [],
   "source": [
    "#Filling the missing values with mean of their column.\n",
    "for i in range(0,477):\n",
    "    movie_df.iloc[:,i].fillna(value=movie_df.iloc[:,i].mean(), inplace=True)\n",
    "\n",
    "maxCorr=[]\n",
    "maxCorrPair=[]\n",
    "\n",
    "#Correlation matrix of all users.\n",
    "r = np.abs(np.corrcoef(movie_df,rowvar=True)) # True = variables are rowwise; False = variables are columnwise\n",
    "\n",
    "#Finding the maximum correlation for each user, and the most correlated user.\n",
    "for i in range(1097):\n",
    "    ans=heapq.nlargest(2,r[i,:])\n",
    "    j=(np.where(r[i,:]==ans[1]))\n",
    "    maxCorr+=[ans[1]]\n",
    "    maxCorrPair+=[list([i,j[0][0]])]\n",
    "\n",
    "#Finding maximum correlation and the maximum correlated pair.\n",
    "maximumCorr=np.max(maxCorr)\n",
    "index = np.where(maxCorr == maximumCorr)\n",
    "maxCorrPair=np.array(maxCorrPair)\n",
    "ans=maxCorrPair[index[0]]\n",
    "\n",
    "    "
   ]
  },
  {
   "cell_type": "markdown",
   "id": "sh0dW7UkIAYq",
   "metadata": {
    "id": "sh0dW7UkIAYq"
   },
   "source": [
    "# 1.1 For every user in the given data, find its most correlated user."
   ]
  },
  {
   "cell_type": "code",
   "execution_count": 4,
   "id": "Kbi5wSmUIC8y",
   "metadata": {
    "colab": {
     "base_uri": "https://localhost:8080/",
     "height": 424
    },
    "id": "Kbi5wSmUIC8y",
    "outputId": "9b3c2054-e06a-416a-d754-9fc7fa134c79"
   },
   "outputs": [
    {
     "data": {
      "text/html": [
       "<div>\n",
       "<style scoped>\n",
       "    .dataframe tbody tr th:only-of-type {\n",
       "        vertical-align: middle;\n",
       "    }\n",
       "\n",
       "    .dataframe tbody tr th {\n",
       "        vertical-align: top;\n",
       "    }\n",
       "\n",
       "    .dataframe thead th {\n",
       "        text-align: right;\n",
       "    }\n",
       "</style>\n",
       "<table border=\"1\" class=\"dataframe\">\n",
       "  <thead>\n",
       "    <tr style=\"text-align: right;\">\n",
       "      <th></th>\n",
       "      <th>User</th>\n",
       "      <th>Most Correlated User</th>\n",
       "    </tr>\n",
       "  </thead>\n",
       "  <tbody>\n",
       "    <tr>\n",
       "      <th>0</th>\n",
       "      <td>0</td>\n",
       "      <td>583</td>\n",
       "    </tr>\n",
       "    <tr>\n",
       "      <th>1</th>\n",
       "      <td>1</td>\n",
       "      <td>831</td>\n",
       "    </tr>\n",
       "    <tr>\n",
       "      <th>2</th>\n",
       "      <td>2</td>\n",
       "      <td>896</td>\n",
       "    </tr>\n",
       "    <tr>\n",
       "      <th>3</th>\n",
       "      <td>3</td>\n",
       "      <td>364</td>\n",
       "    </tr>\n",
       "    <tr>\n",
       "      <th>4</th>\n",
       "      <td>4</td>\n",
       "      <td>896</td>\n",
       "    </tr>\n",
       "    <tr>\n",
       "      <th>...</th>\n",
       "      <td>...</td>\n",
       "      <td>...</td>\n",
       "    </tr>\n",
       "    <tr>\n",
       "      <th>1092</th>\n",
       "      <td>1092</td>\n",
       "      <td>896</td>\n",
       "    </tr>\n",
       "    <tr>\n",
       "      <th>1093</th>\n",
       "      <td>1093</td>\n",
       "      <td>833</td>\n",
       "    </tr>\n",
       "    <tr>\n",
       "      <th>1094</th>\n",
       "      <td>1094</td>\n",
       "      <td>896</td>\n",
       "    </tr>\n",
       "    <tr>\n",
       "      <th>1095</th>\n",
       "      <td>1095</td>\n",
       "      <td>392</td>\n",
       "    </tr>\n",
       "    <tr>\n",
       "      <th>1096</th>\n",
       "      <td>1096</td>\n",
       "      <td>559</td>\n",
       "    </tr>\n",
       "  </tbody>\n",
       "</table>\n",
       "<p>1097 rows × 2 columns</p>\n",
       "</div>"
      ],
      "text/plain": [
       "      User  Most Correlated User\n",
       "0        0                   583\n",
       "1        1                   831\n",
       "2        2                   896\n",
       "3        3                   364\n",
       "4        4                   896\n",
       "...    ...                   ...\n",
       "1092  1092                   896\n",
       "1093  1093                   833\n",
       "1094  1094                   896\n",
       "1095  1095                   392\n",
       "1096  1096                   559\n",
       "\n",
       "[1097 rows x 2 columns]"
      ]
     },
     "execution_count": 4,
     "metadata": {},
     "output_type": "execute_result"
    }
   ],
   "source": [
    "df_max=pd.DataFrame(maxCorrPair, columns=['User','Most Correlated User'])\n",
    "df_max"
   ]
  },
  {
   "cell_type": "markdown",
   "id": "mpOwO2PkIe2M",
   "metadata": {
    "id": "mpOwO2PkIe2M"
   },
   "source": [
    "# 1.2  What is the pair of the most correlated users in the data?"
   ]
  },
  {
   "cell_type": "code",
   "execution_count": 5,
   "id": "4RLigji3Igro",
   "metadata": {
    "colab": {
     "base_uri": "https://localhost:8080/",
     "height": 0
    },
    "id": "4RLigji3Igro",
    "outputId": "6f58855e-6495-441a-cbba-b6321e5ebf73"
   },
   "outputs": [
    {
     "name": "stdout",
     "output_type": "stream",
     "text": [
      "Pair of most correlated users is: (896, 831)\n"
     ]
    }
   ],
   "source": [
    "print(\"Pair of most correlated users is:\",tuple(ans[0]))"
   ]
  },
  {
   "cell_type": "markdown",
   "id": "b8CJgoErI_2Q",
   "metadata": {
    "id": "b8CJgoErI_2Q"
   },
   "source": [
    "# 1.3 What is the value of this highest correlation?"
   ]
  },
  {
   "cell_type": "code",
   "execution_count": 6,
   "id": "R8UbMUp7JBzo",
   "metadata": {
    "colab": {
     "base_uri": "https://localhost:8080/",
     "height": 0
    },
    "id": "R8UbMUp7JBzo",
    "outputId": "09434be5-24c1-4b4b-ff99-0bf6d943a1b5"
   },
   "outputs": [
    {
     "name": "stdout",
     "output_type": "stream",
     "text": [
      "Value of highest correlation is: 0.9995424261495213\n"
     ]
    }
   ],
   "source": [
    "print(\"Value of highest correlation is:\", maximumCorr)"
   ]
  },
  {
   "cell_type": "markdown",
   "id": "10MAX15NJcrp",
   "metadata": {
    "id": "10MAX15NJcrp"
   },
   "source": [
    "# 1.4 For users 0, 1, 2, \\dots, 9, print their most correlated users."
   ]
  },
  {
   "cell_type": "code",
   "execution_count": 7,
   "id": "PJJxJu-aJe4x",
   "metadata": {
    "colab": {
     "base_uri": "https://localhost:8080/",
     "height": 0
    },
    "id": "PJJxJu-aJe4x",
    "outputId": "4a0b6351-9561-4e81-ab1c-8496d7b3913f"
   },
   "outputs": [
    {
     "name": "stdout",
     "output_type": "stream",
     "text": [
      " User 0 's most correlated user is  583 with correlation value of:  0.5511706042525552\n",
      " User 1 's most correlated user is  831 with correlation value of:  0.725494094628542\n",
      " User 2 's most correlated user is  896 with correlation value of:  0.7840470409296278\n",
      " User 3 's most correlated user is  364 with correlation value of:  0.6400548944129246\n",
      " User 4 's most correlated user is  896 with correlation value of:  0.5284407429003192\n",
      " User 5 's most correlated user is  99 with correlation value of:  0.6126407438214845\n",
      " User 6 's most correlated user is  239 with correlation value of:  0.6026009156857232\n",
      " User 7 's most correlated user is  896 with correlation value of:  0.514100467800941\n",
      " User 8 's most correlated user is  896 with correlation value of:  0.7061436147383404\n",
      " User 9 's most correlated user is  1004 with correlation value of:  0.7525913808754057\n"
     ]
    }
   ],
   "source": [
    "for i in range(10):\n",
    "    a=maxCorrPair[i]\n",
    "    print(\" User\", i, \"'s most correlated user is \", a[1], \"with correlation value of: \", maxCorr[i])"
   ]
  },
  {
   "cell_type": "markdown",
   "id": "rzIrTVs8tVN6",
   "metadata": {
    "id": "rzIrTVs8tVN6"
   },
   "source": [
    "### Q2:\n",
    "\n",
    "We want to find a model between the ratings and the personal part of the data. To do so, consider:\n",
    "\n",
    "\n",
    "**Part 1**: the ratings of all users over columns 1-400: \n",
    "\n",
    "-- Columns 1-400: These columns contain the ratings for the 400 movies (0 to 4, and missing);\n",
    "\n",
    "call this part `df_rate`\n",
    "\n",
    "\n",
    "and \n",
    "\n",
    "\n",
    "**Part 2**:  the part of the data which includes all users over columns 401-474\n",
    "\n",
    "-- Columns 401-421: These columns contain self-assessments on sensation seeking behaviors (1-5)\n",
    "\n",
    "-- Columns 422-464: These columns contain responses to personality questions (1-5)\n",
    "\n",
    "-- Columns 465-474: These columns contain self-reported movie experience ratings (1-5)\n",
    "\n",
    "call this part `df_pers`.\n",
    "\n",
    "---\n",
    "\n",
    "Our main task is to model: \n",
    "\n",
    "\n",
    "`df_pers = function(df_rate)`\n",
    "\n",
    "\n",
    "---\n",
    "\n",
    "**Note:** Split the original data into training and testing as the ratio 0.80: 0.20. \n",
    "\n",
    "\n",
    "2.1. Model `df_pers = function(df_rate)` by using the linear regression. \n",
    "\n",
    "What are the errors on: (i) the training part; (ii) the testing part?\n",
    "\n",
    "\n",
    "\n",
    "\n",
    "2.2. Model `df_pers = function(df_rate)` by using the ridge regression with hyperparamter values alpha from [0.0, 1e-8, 1e-5, 0.1, 1, 10]. \n",
    "\n",
    "For every of the previous values for alpha, what are the errors on: (i) the training part; (ii) the testing part?\n",
    "\n",
    "What is a best choice for alpha?\n",
    "\n",
    "\n",
    "\n",
    "2.3. Model `df_pers = function(df_rate)` by using the lasso regression with hyperparamter values alpha from [1e-3, 1e-2, 1e-1, 1]. \n",
    "\n",
    "For every of the previous values for alpha, what are the errors on: (i) the training part; (ii) the testing part?\n",
    "\n",
    "What is a best choice for alpha?\n",
    "\n",
    "\n",
    "**Note**: Ignore any `convergence warning` in case you may obtain in the Lasso regression.\n",
    "\n",
    "\n"
   ]
  },
  {
   "cell_type": "markdown",
   "id": "nMBi-jUOJ1HZ",
   "metadata": {
    "id": "nMBi-jUOJ1HZ"
   },
   "source": [
    "# 2.1 Linear Regression"
   ]
  },
  {
   "cell_type": "code",
   "execution_count": 8,
   "id": "iJdujrxEJ2ug",
   "metadata": {
    "colab": {
     "base_uri": "https://localhost:8080/",
     "height": 0
    },
    "id": "iJdujrxEJ2ug",
    "outputId": "ecd38afa-8e35-47d6-e51b-89add9fee1c5"
   },
   "outputs": [
    {
     "name": "stdout",
     "output_type": "stream",
     "text": [
      "Test error: 3.2425996509055355\n",
      "Train error: 0.6181456740657307\n"
     ]
    }
   ],
   "source": [
    "df_rate=movie_df.iloc[:, 0:400]\n",
    "df_pers=movie_df.iloc[:, 400:474]\n",
    "\n",
    "X_train,X_test,Y_train,Y_test=train_test_split(df_rate,df_pers,test_size=0.20)\n",
    "\n",
    "regressor=LinearRegression()\n",
    "regressor.fit(X_train, Y_train)\n",
    "Y_train_hat=regressor.predict(X_train)\n",
    "Y_hat=regressor.predict(X_test)\n",
    "\n",
    "print(\"Test error:\", mean_squared_error(Y_test,Y_hat))\n",
    "print(\"Train error:\", mean_squared_error(Y_train,Y_train_hat))"
   ]
  },
  {
   "cell_type": "markdown",
   "id": "LhLEKPSMKS3n",
   "metadata": {
    "id": "LhLEKPSMKS3n"
   },
   "source": [
    "# 2.2 Ridge Regression"
   ]
  },
  {
   "cell_type": "code",
   "execution_count": 9,
   "id": "jStzQYDsKXcH",
   "metadata": {
    "colab": {
     "base_uri": "https://localhost:8080/",
     "height": 0
    },
    "id": "jStzQYDsKXcH",
    "outputId": "654f7c27-4737-4728-a269-ab749d54ec30"
   },
   "outputs": [
    {
     "name": "stdout",
     "output_type": "stream",
     "text": [
      "Test error for alpha value 0.0  is : 2.916801965873683\n",
      "Train error for alpha value  0.0  is : 0.6258904269458927\n",
      "Test error for alpha value 1e-08  is : 2.916801958183902\n",
      "Train error for alpha value  1e-08  is : 0.6258904269458927\n",
      "Test error for alpha value 1e-05  is : 2.9167942761536607\n",
      "Train error for alpha value  1e-05  is : 0.6258904269470102\n",
      "Test error for alpha value 0.1  is : 2.8456716017983115\n",
      "Train error for alpha value  0.1  is : 0.6259887889520456\n",
      "Test error for alpha value 1  is : 2.467127990720693\n",
      "Train error for alpha value  1  is : 0.6305741181002343\n",
      "Test error for alpha value 10  is : 1.744484615680695\n",
      "Train error for alpha value  10  is : 0.6805877136750982\n"
     ]
    }
   ],
   "source": [
    "alphas = [0.0, 1e-8, 1e-5, 0.1, 1, 10]\n",
    "\n",
    "for alpha in alphas:\n",
    "    est=make_pipeline(Ridge(alpha=alpha))\n",
    "    est.fit(X_train, Y_train)\n",
    "    \n",
    "    Y_train_hat=est.predict(X_train)\n",
    "    Y_hat=est.predict(X_test)\n",
    "\n",
    "    print(\"Test error for alpha value\",alpha,\" is :\", mean_squared_error(Y_test,Y_hat))\n",
    "    print(\"Train error for alpha value \",alpha,\" is :\", mean_squared_error(Y_train,Y_train_hat))\n"
   ]
  },
  {
   "cell_type": "markdown",
   "id": "3Lu5VF0gKwEf",
   "metadata": {
    "id": "3Lu5VF0gKwEf"
   },
   "source": [
    "### Code for finding out best value of alpha."
   ]
  },
  {
   "cell_type": "code",
   "execution_count": 10,
   "id": "U2IfxO8oK1MJ",
   "metadata": {
    "colab": {
     "base_uri": "https://localhost:8080/",
     "height": 0
    },
    "id": "U2IfxO8oK1MJ",
    "outputId": "e9c6dade-a7f8-4b0f-f2e4-6707cbd560fd"
   },
   "outputs": [
    {
     "name": "stdout",
     "output_type": "stream",
     "text": [
      "Best alpha {'model__alpha': 10}\n"
     ]
    }
   ],
   "source": [
    "from sklearn.preprocessing import StandardScaler\n",
    "from sklearn.model_selection import GridSearchCV\n",
    "from sklearn.pipeline import Pipeline\n",
    "\n",
    "pipe=Pipeline([(\"scale\", StandardScaler()),\n",
    "               (\"model\", Ridge())])\n",
    "pipe.fit(df_rate, df_pers)\n",
    "params_Ridge = {'model__alpha': alphas}\n",
    "modR=GridSearchCV(estimator=pipe,\n",
    "             param_grid=params_Ridge,\n",
    "             cv=5,\n",
    "             n_jobs=-1)\n",
    "\n",
    "modR.fit(df_rate, df_pers)\n",
    "df_params_Ridge= pd.DataFrame(modR.cv_results_)\n",
    "print(\"Best alpha\", modR.best_params_)"
   ]
  },
  {
   "cell_type": "markdown",
   "id": "v_Rx_5LqLBAF",
   "metadata": {
    "id": "v_Rx_5LqLBAF"
   },
   "source": [
    "#### We can see from results of 2.2 and using Grid Search we get aplha=10 as the best parameter for Ridge Regression."
   ]
  },
  {
   "cell_type": "markdown",
   "id": "y1qSQpAZLOlq",
   "metadata": {
    "id": "y1qSQpAZLOlq"
   },
   "source": [
    "# 2.3 Lasso Regression"
   ]
  },
  {
   "cell_type": "code",
   "execution_count": 11,
   "id": "JjyleRJzLP_x",
   "metadata": {
    "colab": {
     "base_uri": "https://localhost:8080/",
     "height": 0
    },
    "id": "JjyleRJzLP_x",
    "outputId": "9556a927-f9d5-41fb-a829-dbce698b318a"
   },
   "outputs": [
    {
     "name": "stdout",
     "output_type": "stream",
     "text": [
      "Test error for alpha value 0.001  is : 2.0884960569962847\n",
      "Train error for alpha value  0.001  is : 0.6485555180502981\n",
      "Test error for alpha value 0.01  is : 1.2828421745348293\n",
      "Train error for alpha value  0.01  is : 0.9053075786948618\n",
      "Test error for alpha value 0.1  is : 1.18157978377624\n",
      "Train error for alpha value  0.1  is : 1.2283303286749907\n",
      "Test error for alpha value 1  is : 1.1905513952551934\n",
      "Train error for alpha value  1  is : 1.2448423908864155\n"
     ]
    }
   ],
   "source": [
    "alphas = [1e-3, 1e-2, 1e-1, 1]\n",
    "\n",
    "for alpha in alphas:\n",
    "    est=make_pipeline(Lasso(alpha=alpha))\n",
    "    est.fit(X_train, Y_train)\n",
    "    \n",
    "    Y_train_hat=est.predict(X_train)\n",
    "    Y_hat=est.predict(X_test)\n",
    "\n",
    "    print(\"Test error for alpha value\",alpha,\" is :\", mean_squared_error(Y_test,Y_hat))\n",
    "    print(\"Train error for alpha value \",alpha,\" is :\", mean_squared_error(Y_train,Y_train_hat))"
   ]
  },
  {
   "cell_type": "markdown",
   "id": "8GyU47oZLzjZ",
   "metadata": {
    "id": "8GyU47oZLzjZ"
   },
   "source": [
    "### Code for finding out best value of alpha."
   ]
  },
  {
   "cell_type": "code",
   "execution_count": 12,
   "id": "_v87rbSCMMu_",
   "metadata": {
    "colab": {
     "base_uri": "https://localhost:8080/",
     "height": 0
    },
    "id": "_v87rbSCMMu_",
    "outputId": "e0d0ba6b-e43c-4d37-ff1d-0e84c872034b"
   },
   "outputs": [
    {
     "name": "stdout",
     "output_type": "stream",
     "text": [
      "Best Alpha {'model__alpha': 0.1}\n"
     ]
    }
   ],
   "source": [
    "pipe=Pipeline([(\"scale\", StandardScaler()),\n",
    "               (\"model\", Lasso())])\n",
    "pipe.fit(df_rate, df_pers)\n",
    "params_Lasso = {'model__alpha': alphas}\n",
    "modL=GridSearchCV(estimator=pipe,\n",
    "             param_grid=params_Lasso,\n",
    "             cv=5,\n",
    "             n_jobs=-1)\n",
    "\n",
    "modL.fit(df_rate, df_pers)\n",
    "df_params_Lasso= pd.DataFrame(modL.cv_results_)\n",
    "print(\"Best Alpha\", modL.best_params_)"
   ]
  },
  {
   "cell_type": "markdown",
   "id": "PoaUfIw1NDl2",
   "metadata": {
    "id": "PoaUfIw1NDl2"
   },
   "source": [
    "#### We can see from results of 2.3 and using Grid Search we get aplha=0.1 as the best parameter for Lasso Regression."
   ]
  }
 ],
 "metadata": {
  "colab": {
   "collapsed_sections": [],
   "name": "2021_fall_dsga1001_proj02_mmk9369.ipynb",
   "provenance": []
  },
  "kernelspec": {
   "display_name": "Python 3 (ipykernel)",
   "language": "python",
   "name": "python3"
  },
  "language_info": {
   "codemirror_mode": {
    "name": "ipython",
    "version": 3
   },
   "file_extension": ".py",
   "mimetype": "text/x-python",
   "name": "python",
   "nbconvert_exporter": "python",
   "pygments_lexer": "ipython3",
   "version": "3.8.8"
  }
 },
 "nbformat": 4,
 "nbformat_minor": 5
}
